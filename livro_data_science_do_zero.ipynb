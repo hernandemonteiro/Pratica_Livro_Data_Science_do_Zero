{
  "nbformat": 4,
  "nbformat_minor": 0,
  "metadata": {
    "colab": {
      "provenance": [],
      "authorship_tag": "ABX9TyNTReu6UL5//gPiShme9P0Y"
    },
    "kernelspec": {
      "name": "python3",
      "display_name": "Python 3"
    },
    "language_info": {
      "name": "python"
    }
  },
  "cells": [
    {
      "cell_type": "markdown",
      "source": [
        "# **Data Science do Zero (Noções fundamentais com Python)**\n",
        "\n",
        "-----------------------\n",
        "\n",
        "Esse notebook é baseado ná prática de estudo do livro de Data Science de Joel Grus, as anotações feitas aqui podem ser fieis ao livro ou ser alteradas por motivos de estudos, então os exemplos utilizados servem para trilhar um caminho no aprendizado de Data Science.\n",
        "\n",
        "-----------------------\n",
        "[Github do Livro](https://github.com/joelgrus/data-science-from-scratch?tab=readme-ov-file)\n",
        "\n",
        "-------------------\n",
        "\n"
      ],
      "metadata": {
        "id": "B-zIrFaKcIf3"
      }
    },
    {
      "cell_type": "markdown",
      "source": [
        "## **Dados**\n",
        "\n",
        "> \"Dados! Dados! Dados!\", esbravejou, impaciente. \"Não posso fazer tijolos sem barro.\" - Arthur Conan Doyle.\n",
        "\n",
        "\n",
        "Nosso mundo atual está repleto de dados, a cada segundo que se passa a internet acumula mais e mais dados em aplicações e redes sociais, cada passo que damos gera um dado, como nossa localização capturada de nosso smartphone, aparelhos que acompanham batimentos cardiacos.\n",
        "<br/>\n",
        "na internet podemos nos encontrar com uma enciclopedia de dados, muitos conjuntos já catalogados prontos para serem estudados.\n",
        "\n",
        "## **Data Science**\n",
        "\n",
        "Essa é a area que extrai conhecimento de dados desorganizados.\n",
        "<br/>\n",
        "Tendo nela várias sub-áreas:\n",
        "- Machine Learning\n",
        "- Análise de Dados\n",
        "- Business Intelligence"
      ],
      "metadata": {
        "id": "JM7CUORMhFlE"
      }
    },
    {
      "cell_type": "code",
      "source": [
        "from IPython.display import display"
      ],
      "metadata": {
        "id": "uL2Md5QfBHrS"
      },
      "execution_count": 47,
      "outputs": []
    },
    {
      "cell_type": "code",
      "source": [
        "# Análise exemplo para a rede social da DataSciencester\n",
        "\n",
        "users = [\n",
        "  { \"id\": 0, \"name\": \"Hero\" },\n",
        "  { \"id\": 1, \"name\": \"Dunn\" },\n",
        "  { \"id\": 2, \"name\": \"Sue\" },\n",
        "  { \"id\": 3, \"name\": \"Chi\" },\n",
        "  { \"id\": 4, \"name\": \"Thor\" },\n",
        "  { \"id\": 5, \"name\": \"Clive\" },\n",
        "  { \"id\": 6, \"name\": \"Hicks\" },\n",
        "  { \"id\": 7, \"name\": \"Devin\" },\n",
        "  { \"id\": 8, \"name\": \"Kate\" },\n",
        "  { \"id\": 9, \"name\": \"Klein\" }\n",
        "]\n",
        "\n",
        "friendship_pairs = [(0, 1), (0, 2), (1, 2), (1, 3), (2, 3), (3, 4),\n",
        " (4, 5), (5, 6), (5, 7), (6, 8), (7, 8), (8, 9)]\n",
        "\n",
        "interests = [\n",
        "(0, \"Hadoop\"), (0, \"Big Data\"), (0, \"HBase\"), (0, \"Java\"),\n",
        "(0, \"Spark\"), (0, \"Storm\"), (0, \"Cassandra\"),\n",
        "(1, \"NoSQL\"), (1, \"MongoDB\"), (1, \"Cassandra\"), (1, \"HBase\"),\n",
        "(1, \"Postgres\"), (2, \"Python\"), (2, \"scikit-learn\"), (2, \"scipy\"),\n",
        "(2, \"numpy\"), (2, \"statsmodels\"), (2, \"pandas\"), (3, \"R\"), (3, \"Python\"),\n",
        "(3, \"statistics\"), (3, \"regression\"), (3, \"probability\"),\n",
        "(4, \"machine learning\"), (4, \"regression\"), (4, \"decision trees\"),\n",
        "(4, \"libsvm\"), (5, \"Python\"), (5, \"R\"), (5, \"Java\"), (5, \"C++\"),\n",
        "(5, \"Haskell\"), (5, \"programming languages\"), (6, \"statistics\"),\n",
        "(6, \"probability\"), (6, \"mathematics\"), (6, \"theory\"),\n",
        "(7, \"machine learning\"), (7, \"scikit-learn\"), (7, \"Mahout\"),\n",
        "(7, \"neural networks\"), (8, \"neural networks\"), (8, \"deep learning\"),\n",
        "(8, \"Big Data\"), (8, \"artificial intelligence\"), (9, \"Hadoop\"),\n",
        "(9, \"Java\"), (9, \"MapReduce\"), (9, \"Big Data\")\n",
        "]"
      ],
      "metadata": {
        "id": "cg4yF1h0ltVd"
      },
      "execution_count": 48,
      "outputs": []
    },
    {
      "cell_type": "code",
      "source": [
        "# Agrupando amigos\n",
        "friendships = {user[\"id\"]: [] for user in users}\n",
        "\n",
        "for i, j in friendship_pairs:\n",
        "  friendships[i].append(j)\n",
        "  friendships[j].append(i)\n",
        "\n",
        "friendships"
      ],
      "metadata": {
        "colab": {
          "base_uri": "https://localhost:8080/"
        },
        "id": "WW7fXzsl7kG0",
        "outputId": "37bdaa95-9c4e-403b-e10d-aa7bac47c299"
      },
      "execution_count": 49,
      "outputs": [
        {
          "output_type": "execute_result",
          "data": {
            "text/plain": [
              "{0: [1, 2],\n",
              " 1: [0, 2, 3],\n",
              " 2: [0, 1, 3],\n",
              " 3: [1, 2, 4],\n",
              " 4: [3, 5],\n",
              " 5: [4, 6, 7],\n",
              " 6: [5, 8],\n",
              " 7: [5, 8],\n",
              " 8: [6, 7, 9],\n",
              " 9: [8]}"
            ]
          },
          "metadata": {},
          "execution_count": 49
        }
      ]
    },
    {
      "cell_type": "code",
      "source": [
        "# Somando amigos e tirando a média\n",
        "def number_of_friends(user):\n",
        "  \"\"\"Quantos amigos tem o _user_?\"\"\"\n",
        "  user_id = user[\"id\"]\n",
        "  friend_ids = friendships[user_id]\n",
        "  return len(friend_ids)\n",
        "\n",
        "total_connections = sum(number_of_friends(user) for user in users)\n",
        "\n",
        "num_users = len(users)\n",
        "avg_connections = total_connections / num_users\n",
        "\n",
        "print(\"Média:\", avg_connections)"
      ],
      "metadata": {
        "colab": {
          "base_uri": "https://localhost:8080/"
        },
        "id": "4wnD2FPs8ITL",
        "outputId": "fe56a014-24cf-459f-a8b7-a42aef02374c"
      },
      "execution_count": 50,
      "outputs": [
        {
          "output_type": "stream",
          "name": "stdout",
          "text": [
            "Média: 2.4\n"
          ]
        }
      ]
    },
    {
      "cell_type": "code",
      "source": [
        "# descrobrir quem tem mais amigos\n",
        "# criando uma lista (user_id, number_of_friends)\n",
        "number_of_friends_by_id = [(user[\"id\"], number_of_friends(user)) for user in users]\n",
        "\n",
        "number_of_friends_by_id.sort(key=lambda id_and_friends: id_and_friends[1], reverse=True)\n",
        "display(number_of_friends_by_id)"
      ],
      "metadata": {
        "colab": {
          "base_uri": "https://localhost:8080/",
          "height": 191
        },
        "id": "YrIA0oAu7m13",
        "outputId": "3bf2c545-5800-4176-d216-ba915c3b69b9"
      },
      "execution_count": 51,
      "outputs": [
        {
          "output_type": "display_data",
          "data": {
            "text/plain": [
              "[(1, 3),\n",
              " (2, 3),\n",
              " (3, 3),\n",
              " (5, 3),\n",
              " (8, 3),\n",
              " (0, 2),\n",
              " (4, 2),\n",
              " (6, 2),\n",
              " (7, 2),\n",
              " (9, 1)]"
            ]
          },
          "metadata": {}
        }
      ]
    },
    {
      "cell_type": "code",
      "source": [
        "# cientista de dados que você talvez conheça\n",
        "def foaf_ids_bad(user):\n",
        "  \"\"\"foaf significa  'friend of friend' [amigo de um amigo]\"\"\"\n",
        "  return list(set([foaf_id\n",
        "            for friend_id in friendships[user[\"id\"]]\n",
        "            for foaf_id in friendships[friend_id] if foaf_id != user[\"id\"]]))\n",
        "\n",
        "foaf_ids_bad(users[0])"
      ],
      "metadata": {
        "colab": {
          "base_uri": "https://localhost:8080/"
        },
        "id": "1uHPyrSK_AMV",
        "outputId": "11d48ecf-8d1c-4e4a-decd-9200e744cc73"
      },
      "execution_count": 52,
      "outputs": [
        {
          "output_type": "execute_result",
          "data": {
            "text/plain": [
              "[1, 2, 3]"
            ]
          },
          "metadata": {},
          "execution_count": 52
        }
      ]
    },
    {
      "cell_type": "code",
      "source": [
        "# contagem de amigos em comum\n",
        "from collections import Counter\n",
        "\n",
        "def friends_of_friends(user):\n",
        "  \"\"\"Amigos em comum!\"\"\"\n",
        "  user_id = user[\"id\"]\n",
        "  return Counter(\n",
        "      foaf_id\n",
        "      for friend_id in friendships[user_id]\n",
        "      for foaf_id in friendships[friend_id]\n",
        "      if foaf_id != user_id\n",
        "      and foaf_id not in friendships[user_id]\n",
        "  )\n",
        "\n",
        "friends_of_friends(users[3])"
      ],
      "metadata": {
        "colab": {
          "base_uri": "https://localhost:8080/"
        },
        "id": "yyaa22B7BiXE",
        "outputId": "cc512952-9763-4594-8810-e133e80e186b"
      },
      "execution_count": 53,
      "outputs": [
        {
          "output_type": "execute_result",
          "data": {
            "text/plain": [
              "Counter({0: 2, 5: 1})"
            ]
          },
          "metadata": {},
          "execution_count": 53
        }
      ]
    },
    {
      "cell_type": "code",
      "source": [
        "# usuarios com os mesmos interesses\n",
        "def data_scientists_who_like(target_interest):\n",
        "  \"\"\"Encontre os ids dos usuários com o mesmo interesse.\"\"\"\n",
        "  return [ user_id\n",
        "            for user_id, user_interest in interests\n",
        "           if user_interest == target_interest ]\n",
        "\n",
        "# funciona, mas tem que buscar na lista inteira a cada interesse\n",
        "data_scientists_who_like(\"Java\")"
      ],
      "metadata": {
        "id": "GDPxopbvDV74",
        "colab": {
          "base_uri": "https://localhost:8080/"
        },
        "outputId": "4de1b9cc-4159-4724-aac6-c329e89edf4b"
      },
      "execution_count": 54,
      "outputs": [
        {
          "output_type": "execute_result",
          "data": {
            "text/plain": [
              "[0, 5, 9]"
            ]
          },
          "metadata": {},
          "execution_count": 54
        }
      ]
    },
    {
      "cell_type": "code",
      "source": [
        "# melhorando a busca sobre interesses\n",
        "# -----------\n",
        "# aqui criamos dois dicts que indexam\n",
        "# os interesses pelo id do usuario ou\n",
        "# os ids dos usuarios pelo interesse\n",
        "\n",
        "from collections import defaultdict\n",
        "\n",
        "user_ids_by_interest = defaultdict(list)\n",
        "\n",
        "for user_id, interest in interests:\n",
        "  user_ids_by_interest[interest].append(user_id)\n",
        "\n",
        "print(\"Usuários por interesse:\")\n",
        "display(user_ids_by_interest)\n",
        "\n",
        "interests_by_user_id = defaultdict(list)\n",
        "\n",
        "for user_id, interest in interests:\n",
        "    interests_by_user_id[user_id].append(interest)\n",
        "\n",
        "print(\"Interesses por usuários:\")\n",
        "display(interests_by_user_id)"
      ],
      "metadata": {
        "colab": {
          "base_uri": "https://localhost:8080/",
          "height": 1000
        },
        "id": "JGKjCedv_NmP",
        "outputId": "88cd9d3d-733c-4f7f-bc34-18f40799a519"
      },
      "execution_count": 55,
      "outputs": [
        {
          "output_type": "stream",
          "name": "stdout",
          "text": [
            "Usuários por interesse:\n"
          ]
        },
        {
          "output_type": "display_data",
          "data": {
            "text/plain": [
              "defaultdict(list,\n",
              "            {'Hadoop': [0, 9],\n",
              "             'Big Data': [0, 8, 9],\n",
              "             'HBase': [0, 1],\n",
              "             'Java': [0, 5, 9],\n",
              "             'Spark': [0],\n",
              "             'Storm': [0],\n",
              "             'Cassandra': [0, 1],\n",
              "             'NoSQL': [1],\n",
              "             'MongoDB': [1],\n",
              "             'Postgres': [1],\n",
              "             'Python': [2, 3, 5],\n",
              "             'scikit-learn': [2, 7],\n",
              "             'scipy': [2],\n",
              "             'numpy': [2],\n",
              "             'statsmodels': [2],\n",
              "             'pandas': [2],\n",
              "             'R': [3, 5],\n",
              "             'statistics': [3, 6],\n",
              "             'regression': [3, 4],\n",
              "             'probability': [3, 6],\n",
              "             'machine learning': [4, 7],\n",
              "             'decision trees': [4],\n",
              "             'libsvm': [4],\n",
              "             'C++': [5],\n",
              "             'Haskell': [5],\n",
              "             'programming languages': [5],\n",
              "             'mathematics': [6],\n",
              "             'theory': [6],\n",
              "             'Mahout': [7],\n",
              "             'neural networks': [7, 8],\n",
              "             'deep learning': [8],\n",
              "             'artificial intelligence': [8],\n",
              "             'MapReduce': [9]})"
            ]
          },
          "metadata": {}
        },
        {
          "output_type": "stream",
          "name": "stdout",
          "text": [
            "Interesses por usuários:\n"
          ]
        },
        {
          "output_type": "display_data",
          "data": {
            "text/plain": [
              "defaultdict(list,\n",
              "            {0: ['Hadoop',\n",
              "              'Big Data',\n",
              "              'HBase',\n",
              "              'Java',\n",
              "              'Spark',\n",
              "              'Storm',\n",
              "              'Cassandra'],\n",
              "             1: ['NoSQL', 'MongoDB', 'Cassandra', 'HBase', 'Postgres'],\n",
              "             2: ['Python',\n",
              "              'scikit-learn',\n",
              "              'scipy',\n",
              "              'numpy',\n",
              "              'statsmodels',\n",
              "              'pandas'],\n",
              "             3: ['R', 'Python', 'statistics', 'regression', 'probability'],\n",
              "             4: ['machine learning', 'regression', 'decision trees', 'libsvm'],\n",
              "             5: ['Python',\n",
              "              'R',\n",
              "              'Java',\n",
              "              'C++',\n",
              "              'Haskell',\n",
              "              'programming languages'],\n",
              "             6: ['statistics', 'probability', 'mathematics', 'theory'],\n",
              "             7: ['machine learning',\n",
              "              'scikit-learn',\n",
              "              'Mahout',\n",
              "              'neural networks'],\n",
              "             8: ['neural networks',\n",
              "              'deep learning',\n",
              "              'Big Data',\n",
              "              'artificial intelligence'],\n",
              "             9: ['Hadoop', 'Java', 'MapReduce', 'Big Data']})"
            ]
          },
          "metadata": {}
        }
      ]
    },
    {
      "cell_type": "code",
      "source": [
        "def most_common_interests_with(user):\n",
        "  return Counter(\n",
        "      interested_user_id\n",
        "      for interest in interests_by_user_id[user[\"id\"]]\n",
        "      for interested_user_id in user_ids_by_interest[interest]\n",
        "      if interested_user_id != user[\"id\"]\n",
        "  )\n",
        "\n",
        "most_common_interests_with(users[0])"
      ],
      "metadata": {
        "colab": {
          "base_uri": "https://localhost:8080/"
        },
        "id": "vVo1pLd0B6DR",
        "outputId": "4ccd4d97-de07-46e2-a155-06a92b0d6664"
      },
      "execution_count": 56,
      "outputs": [
        {
          "output_type": "execute_result",
          "data": {
            "text/plain": [
              "Counter({9: 3, 8: 1, 1: 2, 5: 1})"
            ]
          },
          "metadata": {},
          "execution_count": 56
        }
      ]
    },
    {
      "cell_type": "code",
      "source": [
        "# trazendo lista de possiveis amigos\n",
        "# removendo os que já são amigos\n",
        "possible_friend = [ user_id\n",
        "                      for user_id in\n",
        "                      list(most_common_interests_with(users[0])) + list(friends_of_friends(users[0]))\n",
        "                      if user_id not in friendships[0] ]\n",
        "\n",
        "display(possible_friend)"
      ],
      "metadata": {
        "colab": {
          "base_uri": "https://localhost:8080/",
          "height": 34
        },
        "id": "dhcvKWbuD-b1",
        "outputId": "85ac53c7-48bd-4cd2-f98c-0704db34cd87"
      },
      "execution_count": 57,
      "outputs": [
        {
          "output_type": "display_data",
          "data": {
            "text/plain": [
              "[9, 8, 5, 3]"
            ]
          },
          "metadata": {}
        }
      ]
    },
    {
      "cell_type": "code",
      "source": [
        "# lista anonima de salario e anos de experiência\n",
        "salaries_and_tenures = [(83000, 8.7), (88000, 8.1),\n",
        " (48000, 0.7), (76000, 6),\n",
        " (69000, 6.5), (76000, 7.5),\n",
        " (60000, 2.5), (83000, 10),\n",
        " (48000, 1.9), (63000, 4.2)]"
      ],
      "metadata": {
        "id": "-fBiRgSlGRGk"
      },
      "execution_count": 58,
      "outputs": []
    },
    {
      "cell_type": "code",
      "source": [
        "# criando dicionario de salario por ano de experiência\n",
        "# aqui a chave são os anos de experiência e o valor\n",
        "# é uma lista com os salários por ano de experiência\n",
        "salary_by_tenure = defaultdict(list)\n",
        "\n",
        "for salary, tenure in salaries_and_tenures:\n",
        "  salary_by_tenure[tenure].append(salary)\n",
        "\n",
        "display(salary_by_tenure)"
      ],
      "metadata": {
        "colab": {
          "base_uri": "https://localhost:8080/",
          "height": 208
        },
        "id": "Qm_BJ_dhHMPe",
        "outputId": "0e384eeb-19c9-45d7-df86-145f058fa909"
      },
      "execution_count": 59,
      "outputs": [
        {
          "output_type": "display_data",
          "data": {
            "text/plain": [
              "defaultdict(list,\n",
              "            {8.7: [83000],\n",
              "             8.1: [88000],\n",
              "             0.7: [48000],\n",
              "             6: [76000],\n",
              "             6.5: [69000],\n",
              "             7.5: [76000],\n",
              "             2.5: [60000],\n",
              "             10: [83000],\n",
              "             1.9: [48000],\n",
              "             4.2: [63000]})"
            ]
          },
          "metadata": {}
        }
      ]
    },
    {
      "cell_type": "code",
      "source": [
        "#  Aqui é outrs lista que a chave é os anos de experiência\n",
        "# e o valor é a média salarial nesse tempo\n",
        "average_salary_by_tenure = {\n",
        "    tenure: sum(salaries) / len(salaries)\n",
        "    for tenure, salaries in salary_by_tenure.items()\n",
        "}\n",
        "\n",
        "display(average_salary_by_tenure)"
      ],
      "metadata": {
        "colab": {
          "base_uri": "https://localhost:8080/",
          "height": 191
        },
        "id": "jbF8uyXAHta5",
        "outputId": "c754d239-d5a8-4f22-df71-1dcfdb464602"
      },
      "execution_count": 60,
      "outputs": [
        {
          "output_type": "display_data",
          "data": {
            "text/plain": [
              "{8.7: 83000.0,\n",
              " 8.1: 88000.0,\n",
              " 0.7: 48000.0,\n",
              " 6: 76000.0,\n",
              " 6.5: 69000.0,\n",
              " 7.5: 76000.0,\n",
              " 2.5: 60000.0,\n",
              " 10: 83000.0,\n",
              " 1.9: 48000.0,\n",
              " 4.2: 63000.0}"
            ]
          },
          "metadata": {}
        }
      ]
    },
    {
      "cell_type": "code",
      "source": [
        "# criando buckets de experiências\n",
        "def tenure_bucket(tenure):\n",
        "  if tenure < 2:\n",
        "    return \"less than two\"\n",
        "  elif tenure < 5:\n",
        "    return \"between two and five\"\n",
        "  else:\n",
        "    return \"more than five\""
      ],
      "metadata": {
        "id": "nmxJRJT6LOc3"
      },
      "execution_count": 61,
      "outputs": []
    },
    {
      "cell_type": "code",
      "source": [
        "# agora vamos agrupar os salarios por bucket\n",
        "salary_by_tenure_bucket = defaultdict(list)\n",
        "\n",
        "for salary, tenure in salaries_and_tenures:\n",
        "  bucket = tenure_bucket(tenure)\n",
        "  salary_by_tenure_bucket[bucket].append(salary)\n",
        "\n",
        "display(salary_by_tenure_bucket)"
      ],
      "metadata": {
        "colab": {
          "base_uri": "https://localhost:8080/",
          "height": 86
        },
        "id": "xBhpfSnZLmGh",
        "outputId": "70a61368-8de1-4b05-fb62-8eb0e527fe68"
      },
      "execution_count": 62,
      "outputs": [
        {
          "output_type": "display_data",
          "data": {
            "text/plain": [
              "defaultdict(list,\n",
              "            {'more than five': [83000, 88000, 76000, 69000, 76000, 83000],\n",
              "             'less than two': [48000, 48000],\n",
              "             'between two and five': [60000, 63000]})"
            ]
          },
          "metadata": {}
        }
      ]
    },
    {
      "cell_type": "code",
      "source": [
        "# agora podemos tirar uma média salarial por bucket\n",
        "average_salary_by_bucket = {\n",
        "    bucket: sum(salaries) / len(salaries)\n",
        "    for bucket, salaries in salary_by_tenure_bucket.items()\n",
        "}\n",
        "\n",
        "display(average_salary_by_bucket)\n",
        "\n",
        "percent = round(((average_salary_by_bucket[\"more than five\"] - average_salary_by_bucket[\"less than two\"]) /average_salary_by_bucket[\"less than two\"]) * 100)\n",
        "print(f\"\\nDiferença percentual de salário: {percent}%\")"
      ],
      "metadata": {
        "colab": {
          "base_uri": "https://localhost:8080/",
          "height": 104
        },
        "id": "5X5e39pvMKE4",
        "outputId": "b5d0ff46-8522-4409-d6fe-e6b137538ab2"
      },
      "execution_count": 63,
      "outputs": [
        {
          "output_type": "display_data",
          "data": {
            "text/plain": [
              "{'more than five': 79166.66666666667,\n",
              " 'less than two': 48000.0,\n",
              " 'between two and five': 61500.0}"
            ]
          },
          "metadata": {}
        },
        {
          "output_type": "stream",
          "name": "stdout",
          "text": [
            "\n",
            "Diferença percentual de salário: 65%\n"
          ]
        }
      ]
    },
    {
      "cell_type": "code",
      "source": [
        "# quais são os tópicos de interesse?\n",
        "words_and_counts = Counter( word\n",
        "                             for user, interest in interests\n",
        "                             for word in interest.lower().split() )\n",
        "\n",
        "display(words_and_counts)"
      ],
      "metadata": {
        "colab": {
          "base_uri": "https://localhost:8080/",
          "height": 694
        },
        "id": "w0Ss7TN65vdb",
        "outputId": "e8979370-18d2-4f79-c29b-be63a1e5bf31"
      },
      "execution_count": 64,
      "outputs": [
        {
          "output_type": "display_data",
          "data": {
            "text/plain": [
              "Counter({'hadoop': 2,\n",
              "         'big': 3,\n",
              "         'data': 3,\n",
              "         'hbase': 2,\n",
              "         'java': 3,\n",
              "         'spark': 1,\n",
              "         'storm': 1,\n",
              "         'cassandra': 2,\n",
              "         'nosql': 1,\n",
              "         'mongodb': 1,\n",
              "         'postgres': 1,\n",
              "         'python': 3,\n",
              "         'scikit-learn': 2,\n",
              "         'scipy': 1,\n",
              "         'numpy': 1,\n",
              "         'statsmodels': 1,\n",
              "         'pandas': 1,\n",
              "         'r': 2,\n",
              "         'statistics': 2,\n",
              "         'regression': 2,\n",
              "         'probability': 2,\n",
              "         'machine': 2,\n",
              "         'learning': 3,\n",
              "         'decision': 1,\n",
              "         'trees': 1,\n",
              "         'libsvm': 1,\n",
              "         'c++': 1,\n",
              "         'haskell': 1,\n",
              "         'programming': 1,\n",
              "         'languages': 1,\n",
              "         'mathematics': 1,\n",
              "         'theory': 1,\n",
              "         'mahout': 1,\n",
              "         'neural': 2,\n",
              "         'networks': 2,\n",
              "         'deep': 1,\n",
              "         'artificial': 1,\n",
              "         'intelligence': 1,\n",
              "         'mapreduce': 1})"
            ]
          },
          "metadata": {}
        }
      ]
    },
    {
      "cell_type": "code",
      "source": [
        "for word, count in words_and_counts.most_common():\n",
        "  if count > 1:\n",
        "    print(word, count)"
      ],
      "metadata": {
        "colab": {
          "base_uri": "https://localhost:8080/"
        },
        "id": "voN3nGbA7wuu",
        "outputId": "4cab55f0-dfcd-4998-89ca-caa59b964724"
      },
      "execution_count": 65,
      "outputs": [
        {
          "output_type": "stream",
          "name": "stdout",
          "text": [
            "big 3\n",
            "data 3\n",
            "java 3\n",
            "python 3\n",
            "learning 3\n",
            "hadoop 2\n",
            "hbase 2\n",
            "cassandra 2\n",
            "scikit-learn 2\n",
            "r 2\n",
            "statistics 2\n",
            "regression 2\n",
            "probability 2\n",
            "machine 2\n",
            "neural 2\n",
            "networks 2\n"
          ]
        }
      ]
    },
    {
      "cell_type": "code",
      "source": [
        "# uma pausa para ver coisas novas, como por exemplo testes\n",
        "\n",
        "# verdadeiro\n",
        "try:\n",
        "  assert 1 + 1 == 2, \"1 + 1 should equal 2 but didn't\"\n",
        "except Exception as e:\n",
        "  print(f\"Error: {e}\")\n",
        "\n",
        "# falso\n",
        "try:\n",
        "  assert 1 + 1 == 3, \"1 + 1 should equal 2 but didn't\"\n",
        "except Exception as e:\n",
        "  print(f\"Error: {e}\")\n",
        "\n",
        "# testando funções\n",
        "def sumNumber(numberOne, numberTwo):\n",
        "  return numberOne + numberTwo\n",
        "\n",
        "# verdadeiro\n",
        "try:\n",
        "  assert sumNumber(5, 5) == 10, \"sumNumber(5, 5) should equal 10 but didn't\"\n",
        "except Exception as e:\n",
        "  print(f\"Error: {e}\")\n",
        "\n",
        "# falso\n",
        "try:\n",
        "  assert sumNumber(5, 6) == 10, \"sumNumber(5, 5) should equal 10 but didn't\"\n",
        "except Exception as e:\n",
        "  print(f\"Error: {e}\")"
      ],
      "metadata": {
        "colab": {
          "base_uri": "https://localhost:8080/"
        },
        "id": "66w4O_PFDtyk",
        "outputId": "c6811c7e-9eb2-4a34-ef1b-42dcb8be4bc8"
      },
      "execution_count": 66,
      "outputs": [
        {
          "output_type": "stream",
          "name": "stdout",
          "text": [
            "Error: 1 + 1 should equal 2 but didn't\n",
            "Error: sumNumber(5, 5) should equal 10 but didn't\n"
          ]
        }
      ]
    },
    {
      "cell_type": "markdown",
      "source": [
        "### **Visualizando Dados**\n",
        "Aqui iniciamos o uso de ferramentas para visualizarmos os dados, nesse exemplo utilizaremos o MatPlotLib."
      ],
      "metadata": {
        "id": "rqIazw-sa-ng"
      }
    },
    {
      "cell_type": "code",
      "source": [
        "# importando o módulo pyplot\n",
        "from matplotlib import pyplot as plt"
      ],
      "metadata": {
        "id": "xpF3dww5lgAO"
      },
      "execution_count": 67,
      "outputs": []
    },
    {
      "cell_type": "code",
      "source": [
        "# exemplo de utilização do pyplot\n",
        "\n",
        "years = [1950, 1960, 1970, 1980, 1990, 2000, 2010]\n",
        "gdp = [300.2, 543.3, 1075.9, 2862.5, 5979.6, 10289.7, 14958.3]\n",
        "\n",
        "# criando o gráfico\n",
        "plt.plot(years, gdp, color='green', marker='o', linestyle='solid')\n",
        "\n",
        "# adicione um titulo\n",
        "plt.title('Nominal GDP')\n",
        "\n",
        "# adicione um rótulo ao eixo y\n",
        "plt.ylabel(\"Billions of $\")\n",
        "plt.xlabel(\"Years\")\n",
        "plt.show()"
      ],
      "metadata": {
        "colab": {
          "base_uri": "https://localhost:8080/",
          "height": 472
        },
        "id": "tangF4R1lfzL",
        "outputId": "8aae933e-2d8b-45c7-e0b5-538181c6da78"
      },
      "execution_count": 68,
      "outputs": [
        {
          "output_type": "display_data",
          "data": {
            "text/plain": [
              "<Figure size 640x480 with 1 Axes>"
            ],
            "image/png": "[encoded data removed]"
          },
          "metadata": {}
        }
      ]
    },
    {
      "cell_type": "code",
      "source": [
        "# agora um exemplo do gráfico de barras\n",
        "movies = [\"Annie Hall\", \"Ben-Hur\", \"Casa Blanca\", \"Gandhi\", \"West Side Story\"]\n",
        "num_oscars = [5, 11, 3, 8, 10]\n",
        "\n",
        "# criando gráfico de barras\n",
        "plt.bar(range(len(movies)), num_oscars, 0.3)\n",
        "\n",
        "# personalizando o gráfico\n",
        "plt.title(\"My Favorite Movies\")\n",
        "plt.ylabel(\"# of Academy Awards\")\n",
        "\n",
        "# rotule o eixo x com os nomes dos filmes nos centros das barras\n",
        "plt.xticks(range(len(movies)), movies)\n",
        "plt.show()"
      ],
      "metadata": {
        "colab": {
          "base_uri": "https://localhost:8080/",
          "height": 452
        },
        "id": "Ja1Mho81RCW-",
        "outputId": "c7adea05-f2cd-4dd0-c1b2-e15b49827f0a"
      },
      "execution_count": 69,
      "outputs": [
        {
          "output_type": "display_data",
          "data": {
            "text/plain": [
              "<Figure size 640x480 with 1 Axes>"
            ],
            "image/png": "[encoded data removed]"
          },
          "metadata": {}
        }
      ]
    },
    {
      "cell_type": "code",
      "source": [
        "# gráficos de linhas\n",
        "variance = [1, 2, 4, 8, 16, 32, 64, 128, 256]\n",
        "bias_squared = [256, 128, 64, 32, 16, 8, 4, 2, 1]\n",
        "total_error = [x + y for x, y in zip(variance, bias_squared)]\n",
        "xs = [i for i, _ in enumerate(variance)]\n",
        "\n",
        "plt.plot(xs, variance, 'g-', label='variance')\n",
        "plt.plot(xs, bias_squared, 'r-.', label='bias^2')\n",
        "\n",
        "plt.plot(xs, total_error, 'b:', label='total error')\n",
        "\n",
        "plt.legend(loc=9)\n",
        "plt.xlabel('model complexity')\n",
        "plt.xticks([])\n",
        "plt.title('The Bias-Variance Tradeoff')\n",
        "plt.show()"
      ],
      "metadata": {
        "colab": {
          "base_uri": "https://localhost:8080/",
          "height": 448
        },
        "id": "di6DBLUO0wLF",
        "outputId": "b206b07d-c8cd-42ed-9a57-71b0286fc33d"
      },
      "execution_count": 70,
      "outputs": [
        {
          "output_type": "display_data",
          "data": {
            "text/plain": [
              "<Figure size 640x480 with 1 Axes>"
            ],
            "image/png": "[encoded data removed]"
          },
          "metadata": {}
        }
      ]
    },
    {
      "cell_type": "code",
      "source": [
        "# Gráfico de Dispersão\n",
        "friends = [70, 65, 72, 63, 71, 64, 60, 64, 67]\n",
        "minutes = [175, 170, 205, 120, 220, 130, 105, 145, 190]\n",
        "labels = ['a', 'b', 'c', 'd', 'e', 'f', 'g', 'h', 'i']\n",
        "\n",
        "plt.scatter(friends, minutes)\n",
        "\n",
        "for label, friend_count, minute_count in zip(labels, friends, minutes):\n",
        "  plt.annotate(label,\n",
        "               xy=(friend_count, minute_count),\n",
        "               xytext=(5, -5),\n",
        "               textcoords='offset points')\n",
        "\n",
        "plt.title('Daily Minutes vs. Number of friends')\n",
        "plt.xlabel('# of friends')\n",
        "plt.ylabel('daily minutes spent on the site')\n",
        "plt.show()"
      ],
      "metadata": {
        "colab": {
          "base_uri": "https://localhost:8080/",
          "height": 472
        },
        "id": "tbJTa90V0wBr",
        "outputId": "059fc56f-67fe-4975-9e31-01704846c202"
      },
      "execution_count": 71,
      "outputs": [
        {
          "output_type": "display_data",
          "data": {
            "text/plain": [
              "<Figure size 640x480 with 1 Axes>"
            ],
            "image/png": "[encoded data removed]"
          },
          "metadata": {}
        }
      ]
    },
    {
      "cell_type": "markdown",
      "source": [
        "## **Algebra Linear**\n",
        "\n",
        "Aprendendo um pouco sobre essa area que é muito importante para o Data Science.\n",
        "Em python puro as ferramentas para lidar com algebra linear, como por exemplo vetores, não existem, a não ser que usemos algumas bibliotecas, no nosso caso vamos implementar as ferramentas para aprender mais sobre."
      ],
      "metadata": {
        "id": "uyWnqriCG8TZ"
      }
    },
    {
      "cell_type": "code",
      "source": [
        "from typing import List, Tuple, Callable\n",
        "from math import sqrt\n",
        "# *Todas as ferramentas que vamos criar abaixo podem ser encontradas prontas\n",
        "# no numpy, ou no pandas que possui o numpy em sua composição.\n",
        "\n",
        "# Vetor type\n",
        "Vector = List[float]\n",
        "\n",
        "# Matrix type\n",
        "Matrix = List[List[float]]\n",
        "\n",
        "# soma de vetores\n",
        "def add(v: Vector, w: Vector):\n",
        "  \"\"\"Soma os elementos correspondentes!\"\"\"\n",
        "  assert len(v) == len(w), \"vectors should be the same length.\"\n",
        "  return [v_i + w_i for v_i, w_i in zip(v, w)]\n",
        "\n",
        "# teste: add\n",
        "assert add([1, 2, 3], [4, 5, 6]) == [5, 7, 9], \"Return should be [5, 7, 9].\"\n",
        "\n",
        "# subtração de vetores\n",
        "def subtract(v: Vector, w: Vector):\n",
        "  \"\"\"Subtrai os elementos correspondentes!\"\"\"\n",
        "  assert len(v) == len(w), \"vectors should be the same length.\"\n",
        "  return [v_i - w_i for v_i, w_i in zip(v, w)]\n",
        "\n",
        "# teste: subtract\n",
        "assert subtract([5, 7, 9], [4, 5, 6]) == [1, 2, 3], \"Return should be [1, 2, 3].\"\n",
        "\n",
        "# soma de lista de vetores\n",
        "def vector_sum(vectors: List[Vector]):\n",
        "  \"\"\"Soma todos os elementos correspondentes\"\"\"\n",
        "  assert vectors, \"no vectors provided\"\n",
        "\n",
        "  num_elements = len(vectors[0])\n",
        "  assert all(len(v) == num_elements for v in vectors), \"different vector size!\"\n",
        "\n",
        "  return [sum(vector[i] for vector in vectors) for i in range(num_elements)]\n",
        "\n",
        "# teste: vector_sum\n",
        "assert vector_sum([[1, 2], [3, 4], [5, 6], [7, 8]]) == [16, 20], \"Return should be [16, 20].\"\n",
        "\n",
        "# multiplicação de vetores\n",
        "def scalar_multiply(c: float, v: Vector):\n",
        "  \"\"\"Multiplica cada elemento por c\"\"\"\n",
        "  return [c * i for i in v]\n",
        "\n",
        "# teste: scalar_multiply\n",
        "assert scalar_multiply(2, [1, 2, 3]) == [2, 4, 6], \"Return should be [2, 4, 6].\"\n",
        "\n",
        "# média dos vetores\n",
        "def vector_mean(vectors: List[Vector]):\n",
        "  \"\"\"Computa média dos elementos\"\"\"\n",
        "  n = len(vectors)\n",
        "  return scalar_multiply(1/n, vector_sum(vectors))\n",
        "\n",
        "# teste: vector_mean\n",
        "assert vector_mean([[1, 2], [3, 4], [5, 6]]) == [3, 4], \"Return should be [3, 4].\"\n",
        "\n",
        "# produto escalar (dot product)\n",
        "def dot(v: Vector, w: Vector):\n",
        "  \"\"\"Computa v_1 * w_1 + ... + v_n * w_n\"\"\"\n",
        "  assert len(v) == len(w), \"vectors must be same length\"\n",
        "\n",
        "  return sum(v_i * w_i for v_i, w_i in zip(v, w))\n",
        "\n",
        "# teste: dot\n",
        "assert dot([1, 2, 3], [4, 5, 6]) == 32, \"Return shold be equal 32.\"\n",
        "\n",
        "# soma dos quadrados de um vetor\n",
        "def sum_of_squares(v: Vector) -> float:\n",
        "  \"\"\"Retorna v_1 * v_1 + ... + v_n * v_n\"\"\"\n",
        "  return dot(v, v)\n",
        "\n",
        "# teste: sum_of_squares\n",
        "assert sum_of_squares([1, 2, 3]) == 14, \"Return shold be equal 14.\"\n",
        "\n",
        "# magnitude do vetor\n",
        "def magnitude(v: Vector):\n",
        "  \"\"\"Retorna a magnitude (ou comprimento) de v\"\"\"\n",
        "  return sqrt(sum_of_squares(v))\n",
        "\n",
        "# teste: magnitude\n",
        "assert magnitude([3, 4]) == 5, \"Return should be 5\"\n",
        "\n",
        "# distância entre dois vetores\n",
        "def distance(v: Vector, w: Vector) -> float:\n",
        "  \"\"\"Computa a distância entre v e w\"\"\"\n",
        "  return magnitude(subtract(v, w))\n",
        "\n",
        "# teste: distance\n",
        "assert distance([1, 2, 3], [1, 2, 3]) == 0.0, \"Return should be 0.0\"\n",
        "\n",
        "# revelando linhas e colunas de matriz\n",
        "def shape(A: Matrix) -> Tuple[int, int]:\n",
        "  \"\"\"Retorna (n de linhas de A, n de colunas de A)\"\"\"\n",
        "  num_rows = len(A)\n",
        "  num_cols = len(A[0])\n",
        "  return num_rows, num_cols\n",
        "\n",
        "assert shape([[1, 2, 3], [4, 5, 6]]) == (2, 3), \"Return should be (2, 3)\"\n",
        "\n",
        "# obtendo linha\n",
        "def get_row(A: Matrix, i: int) -> Vector:\n",
        "  \"\"\"Retorna a linha i de A (como um Vector)\"\"\"\n",
        "  return A[i]\n",
        "\n",
        "# obtendo coluna\n",
        "def get_column(A: Matrix, j: int) -> Vector:\n",
        "  \"\"\"Retorna a coluna j de A (como um Vector)\"\"\"\n",
        "  return [A_i[j] for A_i in A]\n",
        "\n",
        "# fazendo uma matriz\n",
        "def make_matrix(num_rows: int,\n",
        "                num_cols: int,\n",
        "                entry_fn: Callable[[int, int], float]) -> Matrix:\n",
        "  \"\"\"\n",
        "  Retorna uma matriz num_rows x num_cols\n",
        "  cuja entrada (i,j) é entry_fn(i, j)\n",
        "  \"\"\"\n",
        "  return [[entry_fn(i,j)\n",
        "            for j in range(num_cols)]\n",
        "            for i in range(num_rows)]\n",
        "\n",
        "# matriz de identidade\n",
        "def identity_matrix(n: int) -> Matrix:\n",
        "  \"\"\"Retorna a matriz de identidade n x n\"\"\"\n",
        "  return make_matrix(n, n, lambda i, j: 1 if i == j else 0)\n",
        "\n",
        "assert identity_matrix(3) == [[1, 0, 0],\n",
        "                              [0, 1, 0],\n",
        "                              [0, 0, 1]]"
      ],
      "metadata": {
        "id": "odhJ58N_y_yO"
      },
      "execution_count": 72,
      "outputs": []
    },
    {
      "cell_type": "markdown",
      "source": [
        "## **Estatística**\n",
        "\n",
        "Utilizaremos muito a estátistica para lidar com os dados, então aqui abordaremos alguns aprendizados sobre esse conceito matematico."
      ],
      "metadata": {
        "id": "ini-5VHvCFR4"
      }
    },
    {
      "cell_type": "code",
      "source": [
        "# diretamente do github do livro\n",
        "num_friends = [100.0,49,41,40,25,21,21,19,19,18,18,16,15,15,15,15,14,14,13,13,13,13,12,12,11,10,10,10,10,10,10,10,10,10,10,10,10,10,10,10,9,9,9,9,9,9,9,9,9,9,9,9,9,9,9,9,9,9,8,8,8,8,8,8,8,8,8,8,8,8,8,7,7,7,7,7,7,7,7,7,7,7,7,7,7,7,6,6,6,6,6,6,6,6,6,6,6,6,6,6,6,6,6,6,6,6,6,6,5,5,5,5,5,5,5,5,5,5,5,5,5,5,5,5,5,4,4,4,4,4,4,4,4,4,4,4,4,4,4,4,4,4,4,4,4,3,3,3,3,3,3,3,3,3,3,3,3,3,3,3,3,3,3,3,3,2,2,2,2,2,2,2,2,2,2,2,2,2,2,2,2,2,1,1,1,1,1,1,1,1,1,1,1,1,1,1,1,1,1,1,1,1,1,1]"
      ],
      "metadata": {
        "id": "FIcOgIUpCDUm"
      },
      "execution_count": 73,
      "outputs": []
    },
    {
      "cell_type": "code",
      "source": [
        "friend_counts = Counter(num_friends)\n",
        "xs = range(10)\n",
        "ys = [friend_counts[x] for x in xs]\n",
        "\n",
        "plt.bar(xs, ys)\n",
        "plt.axis([0, 101, 0, 25])\n",
        "plt.title(\"Histogram of Friend Counts\")\n",
        "plt.xlabel(\"# of friends\")\n",
        "plt.ylabel(\"# of people\")\n",
        "plt.show()"
      ],
      "metadata": {
        "colab": {
          "base_uri": "https://localhost:8080/",
          "height": 472
        },
        "id": "g3tUtDPSGdyQ",
        "outputId": "6b9b32c3-c02b-4e74-e842-f1dca849705e"
      },
      "execution_count": 74,
      "outputs": [
        {
          "output_type": "display_data",
          "data": {
            "text/plain": [
              "<Figure size 640x480 with 1 Axes>"
            ],
            "image/png": "[encoded data removed]"
          },
          "metadata": {}
        }
      ]
    },
    {
      "cell_type": "code",
      "source": [
        "num_points = len(num_friends)"
      ],
      "metadata": {
        "id": "hWUe4ANdIW7_"
      },
      "execution_count": 75,
      "outputs": []
    },
    {
      "cell_type": "code",
      "source": [
        "largest_value = max(num_friends)\n",
        "smallest_value = min(num_friends)"
      ],
      "metadata": {
        "id": "Jk7hFyLDIdnr"
      },
      "execution_count": 76,
      "outputs": []
    },
    {
      "cell_type": "code",
      "source": [
        "# para casos especificos\n",
        "\n",
        "sorted_values = sorted(num_friends)\n",
        "smallest_value = sorted_values[0]\n",
        "second_smallest_value = sorted_values[1]\n",
        "second_largest_value = sorted_values[-2]"
      ],
      "metadata": {
        "id": "FRgzSfUZKKfo"
      },
      "execution_count": 77,
      "outputs": []
    },
    {
      "cell_type": "markdown",
      "source": [
        "### **Medidas de tendência central**\n",
        "\n",
        "temos 3 medidas de tendência central média, moda e mediana, elas são tendências que utilizamos para saber sobre o centro de conjuntos de dados."
      ],
      "metadata": {
        "id": "ysfA6vRSLFh6"
      }
    },
    {
      "cell_type": "code",
      "source": [
        "# função de média\n",
        "def mean(xs: List[float]) -> float:\n",
        "  return sum(xs) / len(xs)\n",
        "\n",
        "mean(num_friends)"
      ],
      "metadata": {
        "colab": {
          "base_uri": "https://localhost:8080/"
        },
        "id": "fKOjVXyILBj3",
        "outputId": "20ad3faf-7bf1-4364-bcb6-261904d68e99"
      },
      "execution_count": 78,
      "outputs": [
        {
          "output_type": "execute_result",
          "data": {
            "text/plain": [
              "7.333333333333333"
            ]
          },
          "metadata": {},
          "execution_count": 78
        }
      ]
    },
    {
      "cell_type": "code",
      "source": [
        "# mediana\n",
        "def _median_odd(xs: List[float]) -> float:\n",
        "  \"\"\"Se len(xs) for impar, a mediana será o elemento do meio\"\"\"\n",
        "  return sorted(xs)[len(xs) // 2]\n",
        "\n",
        "def _median_even(xs: List[float]) -> float:\n",
        "  \"\"\"Se len(xs) for par, ela será a média dos dois elementos do meio\"\"\"\n",
        "  sorted_xs = sorted(xs)\n",
        "  hi_midpoint = len(xs) // 2\n",
        "  return ((sorted_xs[hi_midpoint - 1]) + sorted_xs[hi_midpoint]) / 2\n",
        "\n",
        "def median(v: List[float]) -> float:\n",
        "  \"\"\"Encontra o valor do meio em v\"\"\"\n",
        "  return _median_even(v) if len(v) % 2 == 0 else _median_odd(v)"
      ],
      "metadata": {
        "id": "QlEeyV0UNsrE"
      },
      "execution_count": 79,
      "outputs": []
    },
    {
      "cell_type": "code",
      "source": [
        "print(median(num_friends))"
      ],
      "metadata": {
        "colab": {
          "base_uri": "https://localhost:8080/"
        },
        "id": "welA0obFWthk",
        "outputId": "b24e4810-d407-4287-912a-eb9088711180"
      },
      "execution_count": 80,
      "outputs": [
        {
          "output_type": "stream",
          "name": "stdout",
          "text": [
            "6.0\n"
          ]
        }
      ]
    },
    {
      "cell_type": "code",
      "source": [
        "# quantil\n",
        "def quantile(xs: List[float], p: float) -> float:\n",
        "  \"\"\"Retorna o valor pth-percentil em x\"\"\"\n",
        "  p_index = int(p * len(xs))\n",
        "  return sorted(xs)[p_index]\n",
        "\n",
        "assert quantile(num_friends, 0.10) == 1\n",
        "assert quantile(num_friends, 0.25) == 3\n",
        "assert quantile(num_friends, 0.75) == 9\n",
        "assert quantile(num_friends, 0.90) == 13"
      ],
      "metadata": {
        "id": "OM2f5ep7d8Os"
      },
      "execution_count": 81,
      "outputs": []
    },
    {
      "cell_type": "code",
      "source": [
        "# moda\n",
        "def mode(x: List[float]) -> List[float]:\n",
        "  \"\"\"Retorna uma lista, pois pode haver mais de uma moda\"\"\"\n",
        "  counts = Counter(x)\n",
        "  max_count = max(counts.values())\n",
        "  return [x_i for x_i, count in counts.items() if count == max_count]\n",
        "\n",
        "assert set(mode(num_friends)) == {1, 6}"
      ],
      "metadata": {
        "id": "ebpS5Rr4jSEK"
      },
      "execution_count": 82,
      "outputs": []
    },
    {
      "cell_type": "markdown",
      "source": [
        "### **Medidas de Dispersão**\n",
        "\n",
        "São as medidas utilizadas para saber o quanto os dados estão espalhados, quanto mais próximo de zero menos espalhados estão os dados de um conjunto."
      ],
      "metadata": {
        "id": "pNl5uyq1Cucd"
      }
    },
    {
      "cell_type": "code",
      "source": [
        "# amplitude\n",
        "def data_range(xs: List[float]) -> float:\n",
        "  \"\"\"Diferença entre o maior e o menor valor\"\"\"\n",
        "  return max(xs) - min(xs)\n",
        "\n",
        "assert data_range(num_friends) == 99"
      ],
      "metadata": {
        "id": "v21vcLQBkkzt"
      },
      "execution_count": 83,
      "outputs": []
    },
    {
      "cell_type": "code",
      "source": [
        "# variância\n",
        "def de_mean(xs: List[float]) -> List[float]:\n",
        "  \"\"\"Traduza xs subtraindo sua média (para que o resultado tenha média 0)\"\"\"\n",
        "  x_bar = mean(xs)\n",
        "  return [x - x_bar for x in xs]\n",
        "\n",
        "def variance(xs: List[float]) -> float:\n",
        "  \"\"\"Quase o desvio quadrado da média\"\"\"\n",
        "  assert len(xs) >= 2, \"variance requires at least two elements\"\n",
        "\n",
        "  n = len(xs)\n",
        "  deviations = de_mean(xs)\n",
        "  return sum_of_squares(deviations) / (n - 1)\n",
        "\n",
        "assert 81.54 < variance(num_friends) < 81.55"
      ],
      "metadata": {
        "id": "-brnzkWHNBO9"
      },
      "execution_count": 84,
      "outputs": []
    },
    {
      "cell_type": "code",
      "source": [
        "# desvio padrão\n",
        "def standard_deviation(xs: List[float]) -> float:\n",
        "  \"\"\"O desvio-padrão é a raiz quadrada da variância\"\"\"\n",
        "  return sqrt(variance(xs))\n",
        "\n",
        "assert 9.02 < standard_deviation(num_friends) < 9.04"
      ],
      "metadata": {
        "id": "VHfOnGOHiN-O"
      },
      "execution_count": 85,
      "outputs": []
    },
    {
      "cell_type": "code",
      "source": [
        "# interquartil\n",
        "# *serve para amenizar os riscos com os outliers\n",
        "def interquartile_range(xs: List[float]) -> float:\n",
        "  \"\"\"Retorna a diferença entre o percentil 75% e o percentil 25%\"\"\"\n",
        "  return quantile(xs, 0.75) - quantile(xs, 0.25)\n",
        "\n",
        "assert interquartile_range(num_friends) == 6\n",
        "\n",
        "# essa operação quase não é influenciada quando há poucos outliers"
      ],
      "metadata": {
        "id": "8WhekieJivlc"
      },
      "execution_count": 86,
      "outputs": []
    },
    {
      "cell_type": "markdown",
      "source": [
        "### **Correlação**\n",
        "\n",
        "Correlação é a medida de realacionamente entre duas variaveis de conjunto, e como elas se relacionam, podem ser positivas perfeitas (1), negativas perfeitas (-1) ou não relaciondas (0)"
      ],
      "metadata": {
        "id": "I3WUhJqJCouq"
      }
    },
    {
      "cell_type": "code",
      "source": [
        "# Exemplo do livro sobre minutos gastos dos usuários online\n",
        "daily_minutes = [1,68.77,51.25,52.08,38.36,44.54,57.13,51.4,41.42,31.22,34.76,54.01,38.79,47.59,49.1,27.66,41.03,36.73,48.65,28.12,46.62,35.57,32.98,35,26.07,23.77,39.73,40.57,31.65,31.21,36.32,20.45,21.93,26.02,27.34,23.49,46.94,30.5,33.8,24.23,21.4,27.94,32.24,40.57,25.07,19.42,22.39,18.42,46.96,23.72,26.41,26.97,36.76,40.32,35.02,29.47,30.2,31,38.11,38.18,36.31,21.03,30.86,36.07,28.66,29.08,37.28,15.28,24.17,22.31,30.17,25.53,19.85,35.37,44.6,17.23,13.47,26.33,35.02,32.09,24.81,19.33,28.77,24.26,31.98,25.73,24.86,16.28,34.51,15.23,39.72,40.8,26.06,35.76,34.76,16.13,44.04,18.03,19.65,32.62,35.59,39.43,14.18,35.24,40.13,41.82,35.45,36.07,43.67,24.61,20.9,21.9,18.79,27.61,27.21,26.61,29.77,20.59,27.53,13.82,33.2,25,33.1,36.65,18.63,14.87,22.2,36.81,25.53,24.62,26.25,18.21,28.08,19.42,29.79,32.8,35.99,28.32,27.79,35.88,29.06,36.28,14.1,36.63,37.49,26.9,18.58,38.48,24.48,18.95,33.55,14.24,29.04,32.51,25.63,22.22,19,32.73,15.16,13.9,27.2,32.01,29.27,33,13.74,20.42,27.32,18.23,35.35,28.48,9.08,24.62,20.12,35.26,19.92,31.02,16.49,12.16,30.7,31.22,34.65,13.13,27.51,33.2,31.57,14.1,33.42,17.44,10.12,24.42,9.82,23.39,30.93,15.03,21.67,31.09,33.29,22.61,26.89,23.48,8.38,27.81,32.35,23.84]\n",
        "daily_hours = [dm / 60 for dm in daily_minutes]"
      ],
      "metadata": {
        "id": "T1Eazjc_j5lt"
      },
      "execution_count": 89,
      "outputs": []
    },
    {
      "cell_type": "code",
      "source": [
        "# covariância\n",
        "# é um tipo de variância aplicada a pares\n",
        "# mede a variação simultânea de duas variáveis\n",
        "def covariance(xs: List[float], ys: List[float]):\n",
        "  assert len(xs) == len(ys), \"xs and ys must have same number of elements\"\n",
        "  return dot(de_mean(xs), de_mean(ys)) / (len(xs) - 1)\n",
        "\n",
        "assert 22.42 < covariance(num_friends, daily_minutes) < 22.43\n",
        "assert 22.42 / 60 < covariance(num_friends, daily_hours) < 22.43 / 60\n",
        "\n",
        "# essa não é tão comum de ser calculda em comparação com a correlação"
      ],
      "metadata": {
        "id": "Se_rhm6YTPhm"
      },
      "execution_count": 92,
      "outputs": []
    },
    {
      "cell_type": "code",
      "source": [
        "#  correlação\n",
        "# é a divisão dos desvios padrões de duas variaveis\n",
        "def correlation(xs: List[float], ys: List[float]):\n",
        "  \"\"\"Mede a variação simultânea de xs e ys a partir das suas médias\"\"\"\n",
        "  stdev_x = standard_deviation(xs)\n",
        "  stdev_y = standard_deviation(ys)\n",
        "  if stdev_x > 0 and stdev_y > 0:\n",
        "    return covariance(xs, ys) / stdev_x / stdev_y\n",
        "  else:\n",
        "    return 0\n",
        "\n",
        "assert 0.24 < correlation(num_friends, daily_minutes) < 0.25\n",
        "assert 0.24 < correlation(num_friends, daily_hours) < 0.25"
      ],
      "metadata": {
        "id": "RlhKW9OMZBru"
      },
      "execution_count": 93,
      "outputs": []
    },
    {
      "cell_type": "code",
      "source": [
        "#  gráfico de dispersão do numero de amigos em referência aos\n",
        "#  minutos gastos por dia\n",
        "plt.scatter(num_friends,daily_minutes, c='red')\n",
        "plt.ylabel(\"minutos por dia\")\n",
        "plt.xlabel(\"numero de amigos\")"
      ],
      "metadata": {
        "colab": {
          "base_uri": "https://localhost:8080/",
          "height": 466
        },
        "id": "nuP7emApcJWz",
        "outputId": "8e71ebae-82eb-4bc4-9fe1-09c55c88cf70"
      },
      "execution_count": 106,
      "outputs": [
        {
          "output_type": "execute_result",
          "data": {
            "text/plain": [
              "Text(0.5, 0, 'numero de amigos')"
            ]
          },
          "metadata": {},
          "execution_count": 106
        },
        {
          "output_type": "display_data",
          "data": {
            "text/plain": [
              "<Figure size 640x480 with 1 Axes>"
            ],
            "image/png": "[encoded data removed]"
          },
          "metadata": {}
        }
      ]
    },
    {
      "cell_type": "code",
      "source": [
        "#  removendo o outlier\n",
        "outlier = num_friends.index(100)    # index of outlier\n",
        "\n",
        "num_friends_good = [x\n",
        "                    for i, x in enumerate(num_friends)\n",
        "                    if i != outlier]\n",
        "\n",
        "daily_minutes_good = [x\n",
        "                      for i, x in enumerate(daily_minutes)\n",
        "                      if i != outlier]\n",
        "\n",
        "daily_hours_good = [dm / 60 for dm in daily_minutes_good]"
      ],
      "metadata": {
        "id": "SeM6tpbZegBk"
      },
      "execution_count": 107,
      "outputs": []
    },
    {
      "cell_type": "code",
      "source": [],
      "metadata": {
        "id": "3tZ9Y5R0fqtr"
      },
      "execution_count": null,
      "outputs": []
    }
  ]
}