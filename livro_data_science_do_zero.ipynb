{
  "nbformat": 4,
  "nbformat_minor": 0,
  "metadata": {
    "colab": {
      "provenance": [],
      "authorship_tag": "ABX9TyN9NIMNHl9JeQZgzaYa8YvU",
      "include_colab_link": true
    },
    "kernelspec": {
      "name": "python3",
      "display_name": "Python 3"
    },
    "language_info": {
      "name": "python"
    }
  },
  "cells": [
    {
      "cell_type": "markdown",
      "metadata": {
        "id": "view-in-github",
        "colab_type": "text"
      },
      "source": [
        "<a href=\"https://colab.research.google.com/github/hernandemonteiro/Pratica_Livro_Data_Science_do_Zero/blob/main/livro_data_science_do_zero.ipynb\" target=\"_parent\"><img src=\"https://colab.research.google.com/assets/colab-badge.svg\" alt=\"Open In Colab\"/></a>"
      ]
    },
    {
      "cell_type": "markdown",
      "source": [
        "# **Data Science do Zero (Noções fundamentais com Python)**\n",
        "\n",
        "-----------------------\n",
        "\n",
        "Esse notebook é baseado ná prática de estudo do livro de Data Science de Joel Grus, as anotações feitas aqui podem ser fieis ao livro ou ser alteradas por motivos de estudos, então os exemplos utilizados servem para trilhar um caminho no aprendizado de Data Science.\n",
        "\n",
        "-----------------------\n",
        "\n",
        "\n"
      ],
      "metadata": {
        "id": "B-zIrFaKcIf3"
      }
    },
    {
      "cell_type": "markdown",
      "source": [
        "## **Dados**\n",
        "\n",
        "> \"Dados! Dados! Dados!\", esbravejou, impaciente. \"Não posso fazer tijolos sem barro.\" - Arthur Conan Doyle.\n",
        "\n",
        "\n",
        "Nosso mundo atual está repleto de dados, a cada segundo que se passa a internet acumula mais e mais dados em aplicações e redes sociais, cada passo que damos gera um dado, como nossa localização capturada de nosso smartphone, aparelhos que acompanham batimentos cardiacos.\n",
        "<br/>\n",
        "na internet podemos nos encontrar com uma enciclopedia de dados, muitos conjuntos já catalogados prontos para serem estudados.\n",
        "\n",
        "## **Data Science**\n",
        "\n",
        "Essa é a area que extrai conhecimento de dados desorganizados.\n",
        "<br/>\n",
        "Tendo nela várias sub-áreas:\n",
        "- Machine Learning\n",
        "- Análise de Dados\n",
        "- Business Intelligence"
      ],
      "metadata": {
        "id": "JM7CUORMhFlE"
      }
    },
    {
      "cell_type": "code",
      "source": [
        "# Análise exemplo para a rede social da DataSciencester\n",
        "\n",
        "users = [\n",
        "  { \"id\": 0, \"name\": \"Hero\" },\n",
        "  { \"id\": 1, \"name\": \"Dunn\" },\n",
        "  { \"id\": 2, \"name\": \"Sue\" },\n",
        "  { \"id\": 3, \"name\": \"Chi\" },\n",
        "  { \"id\": 4, \"name\": \"Thor\" },\n",
        "  { \"id\": 5, \"name\": \"Clive\" },\n",
        "  { \"id\": 6, \"name\": \"Hicks\" },\n",
        "  { \"id\": 7, \"name\": \"Devin\" },\n",
        "  { \"id\": 8, \"name\": \"Kate\" },\n",
        "  { \"id\": 9, \"name\": \"Klein\" }\n",
        "]\n",
        "\n",
        "friendship_pairs = [(0, 1), (0, 2), (1, 2), (1, 3), (2, 3), (3, 4),\n",
        " (4, 5), (5, 6), (5, 7), (6, 8), (7, 8), (8, 9)]\n",
        "\n",
        "interests = [\n",
        "(0, \"Hadoop\"), (0, \"Big Data\"), (0, \"HBase\"), (0, \"Java\"),\n",
        "(0, \"Spark\"), (0, \"Storm\"), (0, \"Cassandra\"),\n",
        "(1, \"NoSQL\"), (1, \"MongoDB\"), (1, \"Cassandra\"), (1, \"HBase\"),\n",
        "(1, \"Postgres\"), (2, \"Python\"), (2, \"scikit-learn\"), (2, \"scipy\"),\n",
        "(2, \"numpy\"), (2, \"statsmodels\"), (2, \"pandas\"), (3, \"R\"), (3, \"Python\"),\n",
        "(3, \"statistics\"), (3, \"regression\"), (3, \"probability\"),\n",
        "(4, \"machine learning\"), (4, \"regression\"), (4, \"decision trees\"),\n",
        "(4, \"libsvm\"), (5, \"Python\"), (5, \"R\"), (5, \"Java\"), (5, \"C++\"),\n",
        "(5, \"Haskell\"), (5, \"programming languages\"), (6, \"statistics\"),\n",
        "(6, \"probability\"), (6, \"mathematics\"), (6, \"theory\"),\n",
        "(7, \"machine learning\"), (7, \"scikit-learn\"), (7, \"Mahout\"),\n",
        "(7, \"neural networks\"), (8, \"neural networks\"), (8, \"deep learning\"),\n",
        "(8, \"Big Data\"), (8, \"artificial intelligence\"), (9, \"Hadoop\"),\n",
        "(9, \"Java\"), (9, \"MapReduce\"), (9, \"Big Data\")\n",
        "]"
      ],
      "metadata": {
        "id": "cg4yF1h0ltVd"
      },
      "execution_count": 72,
      "outputs": []
    },
    {
      "cell_type": "code",
      "source": [
        "# Agrupando amigos\n",
        "friendships = {user[\"id\"]: [] for user in users}\n",
        "\n",
        "for i, j in friendship_pairs:\n",
        "  friendships[i].append(j)\n",
        "  friendships[j].append(i)\n",
        "\n",
        "friendships"
      ],
      "metadata": {
        "colab": {
          "base_uri": "https://localhost:8080/"
        },
        "id": "WW7fXzsl7kG0",
        "outputId": "74935bdd-a519-4bc4-e404-ed393d01aae1"
      },
      "execution_count": 73,
      "outputs": [
        {
          "output_type": "execute_result",
          "data": {
            "text/plain": [
              "{0: [1, 2],\n",
              " 1: [0, 2, 3],\n",
              " 2: [0, 1, 3],\n",
              " 3: [1, 2, 4],\n",
              " 4: [3, 5],\n",
              " 5: [4, 6, 7],\n",
              " 6: [5, 8],\n",
              " 7: [5, 8],\n",
              " 8: [6, 7, 9],\n",
              " 9: [8]}"
            ]
          },
          "metadata": {},
          "execution_count": 73
        }
      ]
    },
    {
      "cell_type": "code",
      "source": [
        "# Somando amigos e tirando a média\n",
        "def number_of_friends(user):\n",
        "  \"\"\"Quantos amigos tem o _user_?\"\"\"\n",
        "  user_id = user[\"id\"]\n",
        "  friend_ids = friendships[user_id]\n",
        "  return len(friend_ids)\n",
        "\n",
        "total_connections = sum(number_of_friends(user) for user in users)\n",
        "\n",
        "num_users = len(users)\n",
        "avg_connections = total_connections / num_users\n",
        "\n",
        "print(\"Média:\", avg_connections)"
      ],
      "metadata": {
        "colab": {
          "base_uri": "https://localhost:8080/"
        },
        "id": "4wnD2FPs8ITL",
        "outputId": "7306aad7-6899-4d05-bb86-bcae2b8efab7"
      },
      "execution_count": 74,
      "outputs": [
        {
          "output_type": "stream",
          "name": "stdout",
          "text": [
            "Média: 2.4\n"
          ]
        }
      ]
    },
    {
      "cell_type": "code",
      "source": [
        "# descrobrir quem tem mais amigos\n",
        "# criando uma lista (user_id, number_of_friends)\n",
        "number_of_friends_by_id = [(user[\"id\"], number_of_friends(user)) for user in users]\n",
        "\n",
        "number_of_friends_by_id.sort(key=lambda id_and_friends: id_and_friends[1], reverse=True)\n",
        "number_of_friends_by_id"
      ],
      "metadata": {
        "colab": {
          "base_uri": "https://localhost:8080/"
        },
        "id": "YrIA0oAu7m13",
        "outputId": "c812b0fe-4201-47d9-9959-2e9bae7c9d57"
      },
      "execution_count": 75,
      "outputs": [
        {
          "output_type": "execute_result",
          "data": {
            "text/plain": [
              "[(1, 3),\n",
              " (2, 3),\n",
              " (3, 3),\n",
              " (5, 3),\n",
              " (8, 3),\n",
              " (0, 2),\n",
              " (4, 2),\n",
              " (6, 2),\n",
              " (7, 2),\n",
              " (9, 1)]"
            ]
          },
          "metadata": {},
          "execution_count": 75
        }
      ]
    },
    {
      "cell_type": "code",
      "source": [
        "# cientista de dados que você talvez conheça\n",
        "def foaf_ids_bad(user):\n",
        "  \"\"\"foaf significa  'friend of friend' [amigo de um amigo]\"\"\"\n",
        "  return list(set([foaf_id\n",
        "            for friend_id in friendships[user[\"id\"]]\n",
        "            for foaf_id in friendships[friend_id] if foaf_id != user[\"id\"]]))\n",
        "\n",
        "foaf_ids_bad(users[0])"
      ],
      "metadata": {
        "colab": {
          "base_uri": "https://localhost:8080/"
        },
        "id": "1uHPyrSK_AMV",
        "outputId": "35a3dc55-9b5d-4d18-8d60-5260e61f1af0"
      },
      "execution_count": 86,
      "outputs": [
        {
          "output_type": "execute_result",
          "data": {
            "text/plain": [
              "[1, 2, 3]"
            ]
          },
          "metadata": {},
          "execution_count": 86
        }
      ]
    },
    {
      "cell_type": "code",
      "source": [
        "# contagem de amigos em comum\n",
        "from collections import Counter\n",
        "\n",
        "def friends_of_friends(user):\n",
        "  \"\"\"Amigos em comum!\"\"\"\n",
        "  user_id = user[\"id\"]\n",
        "  return Counter(\n",
        "      foaf_id\n",
        "      for friend_id in friendships[user_id]\n",
        "      for foaf_id in friendships[friend_id]\n",
        "      if foaf_id != user_id\n",
        "      and foaf_id not in friendships[user_id]\n",
        "  )\n",
        "\n",
        "friends_of_friends(users[3])"
      ],
      "metadata": {
        "colab": {
          "base_uri": "https://localhost:8080/"
        },
        "id": "yyaa22B7BiXE",
        "outputId": "866f73f5-6451-494e-d0ba-a689a49ee927"
      },
      "execution_count": 91,
      "outputs": [
        {
          "output_type": "execute_result",
          "data": {
            "text/plain": [
              "Counter({0: 2, 5: 1})"
            ]
          },
          "metadata": {},
          "execution_count": 91
        }
      ]
    },
    {
      "cell_type": "code",
      "source": [],
      "metadata": {
        "id": "GDPxopbvDV74"
      },
      "execution_count": null,
      "outputs": []
    }
  ]
}